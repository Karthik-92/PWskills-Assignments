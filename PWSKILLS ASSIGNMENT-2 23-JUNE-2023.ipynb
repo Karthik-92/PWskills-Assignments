{
 "cells": [
  {
   "cell_type": "markdown",
   "id": "5a6aa114",
   "metadata": {},
   "source": [
    "# Assignment-2"
   ]
  },
  {
   "cell_type": "markdown",
   "id": "a19f7629",
   "metadata": {},
   "source": [
    "# Q1. How do you comment code in Python? What are the different types of comments?\n"
   ]
  },
  {
   "cell_type": "markdown",
   "id": "93f7dcf0",
   "metadata": {},
   "source": [
    "Comments in Python:"
   ]
  },
  {
   "cell_type": "markdown",
   "id": "f2175a09",
   "metadata": {},
   "source": [
    "There are two ways to comment in python :\n",
    "\n",
    "1.Using # in the starting of the comment.\n",
    " This is used when we want to tell the comment in the single statement\n",
    "  \n",
    "2.Using \"\"\" in the starting and ending of the comment.\n",
    " This is used when we want to tell the comment in multiline"
   ]
  },
  {
   "cell_type": "code",
   "execution_count": 1,
   "id": "c9506957",
   "metadata": {},
   "outputs": [
    {
     "name": "stdout",
     "output_type": "stream",
     "text": [
      "Hello World\n"
     ]
    }
   ],
   "source": [
    "#Example using '#'\n",
    "\n",
    "#Hello all this is Karthik now am gona tell how to print helloworld\n",
    "a=\"Hello World\"\n",
    "print(a)"
   ]
  },
  {
   "cell_type": "code",
   "execution_count": 7,
   "id": "6e86c3bb",
   "metadata": {},
   "outputs": [
    {
     "name": "stdout",
     "output_type": "stream",
     "text": [
      "Print Python is good\n"
     ]
    }
   ],
   "source": [
    "#Example using '\"\"\"'\n",
    "\n",
    "\"\"\"\n",
    "Hello guys...!\n",
    "I hope everyone is good and enjoying their life \n",
    "Lets live the life happily\n",
    "\"\"\"\n",
    "\n",
    "a=\"Print Python is good\" #This value will be stored in variable a\n",
    "print(a)"
   ]
  },
  {
   "cell_type": "markdown",
   "id": "da99693d",
   "metadata": {},
   "source": [
    "\n",
    "# Q2. What are variables in Python? How do you declare and assign values to variables?\n"
   ]
  },
  {
   "cell_type": "markdown",
   "id": "a1d2e1fa",
   "metadata": {},
   "source": [
    "Variables are used to store data values. They act as containers that hold references to objects in memory. Variables can hold different types of data, such as numbers, strings, lists, or complex numbers. They also allow you to assign a name to a value.\n",
    "\n",
    "The equals sign (=) is the assignment operator used to assign the value on the right-hand side to the variable on the left-hand side.\n",
    "\n"
   ]
  },
  {
   "cell_type": "code",
   "execution_count": 8,
   "id": "d7a71541",
   "metadata": {},
   "outputs": [
    {
     "name": "stdout",
     "output_type": "stream",
     "text": [
      "Karthik\n"
     ]
    }
   ],
   "source": [
    "#Example of a variable\n",
    "\n",
    "Name = \"Karthik\"  #Here 'Name' is the variable which stores the value Karthik\n",
    "print(Name)"
   ]
  },
  {
   "cell_type": "markdown",
   "id": "cbffd7d0",
   "metadata": {},
   "source": [
    "# Q3. How do you convert one data type to another in Python?"
   ]
  },
  {
   "cell_type": "markdown",
   "id": "8ebff8a2",
   "metadata": {},
   "source": [
    "In Python, you can convert one data type to another using type conversion functions. Here are some commonly used type conversion functions:\n",
    "\n",
    "int(): Converts a value to an integer type."
   ]
  },
  {
   "cell_type": "code",
   "execution_count": 20,
   "id": "309ae6f4",
   "metadata": {},
   "outputs": [
    {
     "name": "stdout",
     "output_type": "stream",
     "text": [
      "455 <class 'int'>\n"
     ]
    }
   ],
   "source": [
    "#Example of converting string to int data type\n",
    "num = \"455\"\n",
    "new_num=int(num)\n",
    "print(num,type(new_num))"
   ]
  },
  {
   "cell_type": "markdown",
   "id": "80699683",
   "metadata": {},
   "source": [
    "float(): Converts a value to a floating-point type.\n"
   ]
  },
  {
   "cell_type": "code",
   "execution_count": 19,
   "id": "59509649",
   "metadata": {},
   "outputs": [
    {
     "name": "stdout",
     "output_type": "stream",
     "text": [
      "3.144 <class 'float'>\n"
     ]
    }
   ],
   "source": [
    "#Example of converting string to float data type\n",
    "value=\"3.144\"\n",
    "new_value=float(value)\n",
    "print(value,type(new_value))"
   ]
  },
  {
   "cell_type": "markdown",
   "id": "6c42822b",
   "metadata": {},
   "source": [
    "str(): Converts a value to a String"
   ]
  },
  {
   "cell_type": "code",
   "execution_count": 1,
   "id": "7e65de56",
   "metadata": {},
   "outputs": [
    {
     "name": "stdout",
     "output_type": "stream",
     "text": [
      "123 <class 'str'>\n"
     ]
    }
   ],
   "source": [
    "#Example of converting int data type to String data type\n",
    "num=123\n",
    "new_num=str(num)\n",
    "print(new_num,type(new_num))"
   ]
  },
  {
   "cell_type": "markdown",
   "id": "788f94dc",
   "metadata": {},
   "source": [
    "list(): Coverts values to List"
   ]
  },
  {
   "cell_type": "code",
   "execution_count": 3,
   "id": "8eff833f",
   "metadata": {},
   "outputs": [
    {
     "name": "stdout",
     "output_type": "stream",
     "text": [
      "['B', 'a', 'b', 'y'] <class 'list'>\n"
     ]
    }
   ],
   "source": [
    "#Example of converting String to List data type\n",
    "Name=\"Baby\"\n",
    "new_name=list(Name)\n",
    "print(new_name,type(new_name)) #We should be aware that [] indicates List"
   ]
  },
  {
   "cell_type": "markdown",
   "id": "b4bf6ff7",
   "metadata": {},
   "source": [
    "tuple(): Converts values to Tuple"
   ]
  },
  {
   "cell_type": "code",
   "execution_count": 4,
   "id": "401180a7",
   "metadata": {},
   "outputs": [
    {
     "name": "stdout",
     "output_type": "stream",
     "text": [
      "('B', 'a', 'b', 'e') <class 'tuple'>\n"
     ]
    }
   ],
   "source": [
    "#Example of converting String to Tuple data type\n",
    "Word=\"Babe\"\n",
    "new_word=tuple(Word)\n",
    "print(new_word,type(new_word)) #We should be aware that () indicates tuple"
   ]
  },
  {
   "cell_type": "markdown",
   "id": "63ee53bd",
   "metadata": {},
   "source": [
    "bool() : Converts value to boolean "
   ]
  },
  {
   "cell_type": "code",
   "execution_count": 5,
   "id": "0e622097",
   "metadata": {},
   "outputs": [
    {
     "name": "stdout",
     "output_type": "stream",
     "text": [
      "True <class 'bool'>\n"
     ]
    }
   ],
   "source": [
    "#Example of converting int to boolean\n",
    "num=26\n",
    "new_num=bool(num)\n",
    "print(new_num,type(new_num))"
   ]
  },
  {
   "cell_type": "markdown",
   "id": "b4ff77a7",
   "metadata": {},
   "source": [
    "set() : Converts value to set"
   ]
  },
  {
   "cell_type": "code",
   "execution_count": 6,
   "id": "4081e729",
   "metadata": {},
   "outputs": [
    {
     "name": "stdout",
     "output_type": "stream",
     "text": [
      "{1, 2, 4, 5} <class 'set'>\n"
     ]
    }
   ],
   "source": [
    "#Example of converting tuple to set data type\n",
    "value=(1,2,4,5)\n",
    "new_value=set(value)\n",
    "print(new_value,type(new_value))"
   ]
  },
  {
   "cell_type": "markdown",
   "id": "8b615cb6",
   "metadata": {},
   "source": [
    "# Q4. How do you write and execute a Python script from the command line?\n"
   ]
  },
  {
   "cell_type": "markdown",
   "id": "7705f9cb",
   "metadata": {},
   "source": [
    "Steps to run the Python file :\n",
    "\n",
    "1.Open a text editor (eg: Notepad) and create a new file.\n",
    "\n",
    "2.Write your Python code in the text editor and save the file with a .py extension.\n",
    "\n",
    "3.Open the command prompt or terminal on your computer.\n",
    "\n",
    "4.Navigate to the directory where you saved the Python script using the cd (change directory) command.\n",
    "\n",
    "5.Once you are in the correct directory, you can run the Python script by typing \"python\" followed by the name of the script file.\n",
    "\n",
    "6.This will execute the Python script.\n",
    "\n",
    "or if we are using jupyter-lab directly we can write code and just press shift+enter to run the code."
   ]
  },
  {
   "cell_type": "markdown",
   "id": "2f570175",
   "metadata": {},
   "source": [
    "# Q5. Given a list my_list = [1, 2, 3, 4, 5], write the code to slice the list and obtain the sub-list [2, 3]."
   ]
  },
  {
   "cell_type": "code",
   "execution_count": 15,
   "id": "fcf87ca8",
   "metadata": {},
   "outputs": [
    {
     "name": "stdout",
     "output_type": "stream",
     "text": [
      "This is reverse list of my_list : [5, 4, 3, 2, 1]\n",
      "This is the sub-list of my_list : [2, 3]\n"
     ]
    }
   ],
   "source": [
    "my_list=[1,2,3,4,5]\n",
    "print(\"This is reverse list of my_list :\",my_list[::-1])\n",
    "print(\"This is the sub-list of my_list :\",my_list[1:3])"
   ]
  },
  {
   "cell_type": "markdown",
   "id": "74a9873a",
   "metadata": {},
   "source": [
    "# Q6. What is a complex number in mathematics, and how is it represented in Python? "
   ]
  },
  {
   "cell_type": "markdown",
   "id": "cb29882c",
   "metadata": {},
   "source": [
    "In mathematics, a complex number is a number that comprises both a real part and an imaginary part. It is expressed in the form \"a + bi\", where \"a\" represents the real part, \"b\" represents the imaginary part, and \"i\" represents the imaginary unit (√-1).\n",
    "\n",
    "In Python, complex numbers can be represented using the complex() function or by directly writing the complex number in the form of \"a + bj\". The real part is denoted by \"a\" and the imaginary part by \"b\". "
   ]
  },
  {
   "cell_type": "code",
   "execution_count": 16,
   "id": "939f82dd",
   "metadata": {},
   "outputs": [
    {
     "name": "stdout",
     "output_type": "stream",
     "text": [
      "(5+7j)\n",
      "(4+6j)\n",
      "(2.5+9j)\n"
     ]
    }
   ],
   "source": [
    "#Example of representation of complex data type\n",
    "a=5+7j\n",
    "b=6j+4\n",
    "c=complex(2.5,9)\n",
    "print(a)\n",
    "print(b)\n",
    "print(c)"
   ]
  },
  {
   "cell_type": "markdown",
   "id": "4c268749",
   "metadata": {},
   "source": [
    "# Q7. What is the correct way to declare a variable named age and assign the value 25 to it?"
   ]
  },
  {
   "cell_type": "code",
   "execution_count": 18,
   "id": "2d840655",
   "metadata": {},
   "outputs": [
    {
     "name": "stdout",
     "output_type": "stream",
     "text": [
      "Age :  25\n"
     ]
    }
   ],
   "source": [
    "age=25\n",
    "print(\"Age : \",age)"
   ]
  },
  {
   "cell_type": "markdown",
   "id": "7cf4a42d",
   "metadata": {},
   "source": [
    "# Q8. Declare a variable named price and assign the value 9.99 to it. What data type does this variable belong to?"
   ]
  },
  {
   "cell_type": "code",
   "execution_count": 21,
   "id": "0b2b9d52",
   "metadata": {},
   "outputs": [
    {
     "name": "stdout",
     "output_type": "stream",
     "text": [
      "9.99 <class 'float'>\n"
     ]
    }
   ],
   "source": [
    "#It belongs to folat data type\n",
    "price=9.99\n",
    "print(price,type(price)) #Output will be float value\n"
   ]
  },
  {
   "cell_type": "markdown",
   "id": "a4371ffd",
   "metadata": {},
   "source": [
    "# Q9. Create a variable named name and assign your full name to it as a string. How would you print the value of this variable?"
   ]
  },
  {
   "cell_type": "code",
   "execution_count": 23,
   "id": "1e642d37",
   "metadata": {},
   "outputs": [
    {
     "name": "stdout",
     "output_type": "stream",
     "text": [
      "Full name = Gajulapalli Venkata Karthik Kumar Reddy\n"
     ]
    }
   ],
   "source": [
    "#We can print the value using print statement\n",
    "name=\"Gajulapalli Venkata Karthik Kumar Reddy\"\n",
    "print(\"Full name =\",name )"
   ]
  },
  {
   "cell_type": "markdown",
   "id": "ef2d0978",
   "metadata": {},
   "source": [
    "# Q10. Given the string \"Hello, World!\", extract the substring \"World\"."
   ]
  },
  {
   "cell_type": "code",
   "execution_count": 30,
   "id": "8927e9c1",
   "metadata": {},
   "outputs": [
    {
     "name": "stdout",
     "output_type": "stream",
     "text": [
      "Length of the String = 13\n",
      "substring = World!\n"
     ]
    }
   ],
   "source": [
    "string=\"Hello, World!\"\n",
    "print(\"Length of the String =\",len(string))\n",
    "print(\"substring =\",string[7:13])"
   ]
  },
  {
   "cell_type": "markdown",
   "id": "583e9dab",
   "metadata": {},
   "source": [
    "# Q11. Create a variable named \"is_student\" and assign it a boolean value indicating whether you are currently a student or not."
   ]
  },
  {
   "cell_type": "code",
   "execution_count": 32,
   "id": "b8f61215",
   "metadata": {},
   "outputs": [
    {
     "name": "stdout",
     "output_type": "stream",
     "text": [
      "True\n"
     ]
    }
   ],
   "source": [
    "is_student=True\n",
    "print(is_student)"
   ]
  },
  {
   "cell_type": "code",
   "execution_count": null,
   "id": "feabde85",
   "metadata": {},
   "outputs": [],
   "source": []
  }
 ],
 "metadata": {
  "kernelspec": {
   "display_name": "Python 3 (ipykernel)",
   "language": "python",
   "name": "python3"
  },
  "language_info": {
   "codemirror_mode": {
    "name": "ipython",
    "version": 3
   },
   "file_extension": ".py",
   "mimetype": "text/x-python",
   "name": "python",
   "nbconvert_exporter": "python",
   "pygments_lexer": "ipython3",
   "version": "3.10.9"
  }
 },
 "nbformat": 4,
 "nbformat_minor": 5
}
