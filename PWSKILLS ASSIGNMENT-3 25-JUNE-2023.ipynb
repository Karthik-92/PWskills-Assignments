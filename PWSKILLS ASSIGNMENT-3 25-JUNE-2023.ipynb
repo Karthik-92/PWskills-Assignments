{
 "cells": [
  {
   "cell_type": "markdown",
   "id": "5c02737c",
   "metadata": {},
   "source": [
    "# ASSIGNMENT-3"
   ]
  },
  {
   "cell_type": "markdown",
   "id": "07bd427b",
   "metadata": {},
   "source": [
    "# Q1. Which keyword is used to create a function? Create a function to return a list of odd numbers in the range of 1 to 25."
   ]
  },
  {
   "cell_type": "markdown",
   "id": "23fb3f85",
   "metadata": {},
   "source": [
    "\"def\" is used to create a function."
   ]
  },
  {
   "cell_type": "code",
   "execution_count": 1,
   "id": "0ca36593",
   "metadata": {},
   "outputs": [],
   "source": [
    "#Generating odd numbers list\n",
    "def hi():\n",
    "    l=[]\n",
    "    for i in range(1,25):\n",
    "        if i%2!=0:\n",
    "            l.append(i)\n",
    "    return l"
   ]
  },
  {
   "cell_type": "code",
   "execution_count": 2,
   "id": "da8beb44",
   "metadata": {},
   "outputs": [
    {
     "data": {
      "text/plain": [
       "[1, 3, 5, 7, 9, 11, 13, 15, 17, 19, 21, 23]"
      ]
     },
     "execution_count": 2,
     "metadata": {},
     "output_type": "execute_result"
    }
   ],
   "source": [
    "hi()"
   ]
  },
  {
   "cell_type": "markdown",
   "id": "9e0402ca",
   "metadata": {},
   "source": [
    "# Q2. Why *args and **kwargs is used in some functions? Create a function each for *args and **kwargs to demonstrate their use."
   ]
  },
  {
   "cell_type": "markdown",
   "id": "d7a3c997",
   "metadata": {},
   "source": [
    "\"*args\" will be used when the user needs to give multiple arguments in the function.\n",
    "\n",
    "\"**kwargs\" will be used when the user needs to give multiple dictionary data type arguments in the function"
   ]
  },
  {
   "cell_type": "code",
   "execution_count": 3,
   "id": "e945d902",
   "metadata": {},
   "outputs": [],
   "source": [
    "#Demonstration of *args \n",
    "def hi(*args):\n",
    "    l=[]\n",
    "    for i in args:\n",
    "        if type(i)==int :\n",
    "            l.append(i)\n",
    "    return l"
   ]
  },
  {
   "cell_type": "code",
   "execution_count": 4,
   "id": "0b960112",
   "metadata": {},
   "outputs": [
    {
     "name": "stdout",
     "output_type": "stream",
     "text": [
      "[2, 4, 2, 98, 43]\n"
     ]
    }
   ],
   "source": [
    "a=hi(\"karthik\",2,4,2,24.55,[1,2,34,5],98,43)\n",
    "print(a)"
   ]
  },
  {
   "cell_type": "code",
   "execution_count": 5,
   "id": "502016b1",
   "metadata": {},
   "outputs": [],
   "source": [
    "#Demonstration of **kwargs\n",
    "def babe(**kwargs):\n",
    "    k=[]\n",
    "    for i in kwargs.keys():\n",
    "        if type(kwargs[i])==tuple:\n",
    "            k.append(i)\n",
    "    return k"
   ]
  },
  {
   "cell_type": "code",
   "execution_count": 6,
   "id": "ebd23dc1",
   "metadata": {},
   "outputs": [
    {
     "name": "stdout",
     "output_type": "stream",
     "text": [
      "['numbers', 'operators']\n"
     ]
    }
   ],
   "source": [
    "b=babe(name='karthik',numbers=(1,2,3,4,5),operators=('add','sub','div','multi'))\n",
    "print(b)"
   ]
  },
  {
   "cell_type": "markdown",
   "id": "012c2e14",
   "metadata": {},
   "source": [
    "# Q3. What is an iterator in python? Name the method used to initialise the iterator object and the method used for iteration. Use these methods to print the first five elements of the given list [2, 4, 6, 8, 10, 12, 14, 16,18, 20]."
   ]
  },
  {
   "cell_type": "markdown",
   "id": "0adb96ab",
   "metadata": {},
   "source": [
    "In Python, an iterator is an object that allows you to iterate over collections of data, such as lists, tuples, dictionaries, and sets.\n",
    "\n",
    "The iter() method is used to initialize the iterator object. It returns the iterator object itself and is called when the iterator is initialized or reset.\n",
    "\n",
    "The next() method is used to retrieve the next element from the iterator. It returns the next element in the sequence and raises the StopIteration exception when there are no more elements to be retrieved.\n",
    "\n",
    "\n"
   ]
  },
  {
   "cell_type": "code",
   "execution_count": 33,
   "id": "978f98f7",
   "metadata": {},
   "outputs": [],
   "source": [
    "a=[2,4,6,8,10,12,14,16,18,20]\n",
    "def hii(a):\n",
    "    l = []\n",
    "    for i in a:\n",
    "        l.append(i)\n",
    "    print(\"These are the first five elements of the list : \\n\",l[:5])\n",
    "\n",
    "    return hii"
   ]
  },
  {
   "cell_type": "code",
   "execution_count": 34,
   "id": "c6f84cf4",
   "metadata": {},
   "outputs": [
    {
     "name": "stdout",
     "output_type": "stream",
     "text": [
      "These are the first five elements of the list : \n",
      " [2, 4, 6, 8, 10]\n"
     ]
    },
    {
     "data": {
      "text/plain": [
       "<function __main__.hii(a)>"
      ]
     },
     "execution_count": 34,
     "metadata": {},
     "output_type": "execute_result"
    }
   ],
   "source": [
    "hii(a)"
   ]
  },
  {
   "cell_type": "markdown",
   "id": "4b225f8e",
   "metadata": {},
   "source": [
    "# Q4. What is a generator function in python? Why yield keyword is used? Give an example of a generator function."
   ]
  },
  {
   "cell_type": "markdown",
   "id": "c5dea235",
   "metadata": {},
   "source": [
    "In Python, a generator function is a special type of function that generates an iterator object.\n",
    "\n",
    "\"yield\" is used instead of \"return\" in generator function, it returns a generator object instead of values. "
   ]
  },
  {
   "cell_type": "code",
   "execution_count": 36,
   "id": "a79127a3",
   "metadata": {},
   "outputs": [
    {
     "name": "stdout",
     "output_type": "stream",
     "text": [
      "0\n",
      "2\n",
      "4\n",
      "6\n",
      "8\n"
     ]
    }
   ],
   "source": [
    "#Printing even numbers \n",
    "def hii(limit):\n",
    "    num = 0\n",
    "    while num < limit:\n",
    "        yield num\n",
    "        num += 2\n",
    "\n",
    "# Create a generator object\n",
    "create = hii(10)\n",
    "\n",
    "# Iterate over the generated values\n",
    "for num in create:\n",
    "    print(num)\n"
   ]
  },
  {
   "cell_type": "markdown",
   "id": "a31ca9b9",
   "metadata": {},
   "source": [
    "# Q5. Create a generator function for prime numbers less than 1000. Use the next() method to print the first 20 prime numbers."
   ]
  },
  {
   "cell_type": "code",
   "execution_count": 32,
   "id": "1e07d0af",
   "metadata": {},
   "outputs": [
    {
     "name": "stdout",
     "output_type": "stream",
     "text": [
      "Hello....! This is the prime number - 2 \n",
      "Hello....! This is the prime number - 3 \n",
      "Hello....! This is the prime number - 5 \n",
      "Hello....! This is the prime number - 7 \n",
      "Hello....! This is the prime number - 11 \n",
      "Hello....! This is the prime number - 13 \n",
      "Hello....! This is the prime number - 17 \n",
      "Hello....! This is the prime number - 19 \n",
      "Hello....! This is the prime number - 23 \n",
      "Hello....! This is the prime number - 29 \n",
      "Hello....! This is the prime number - 31 \n",
      "Hello....! This is the prime number - 37 \n",
      "Hello....! This is the prime number - 41 \n",
      "Hello....! This is the prime number - 43 \n",
      "Hello....! This is the prime number - 47 \n",
      "Hello....! This is the prime number - 53 \n",
      "Hello....! This is the prime number - 59 \n",
      "Hello....! This is the prime number - 61 \n",
      "Hello....! This is the prime number - 67 \n",
      "Hello....! This is the prime number - 71 \n"
     ]
    }
   ],
   "source": [
    "def hii():\n",
    "    num = 2\n",
    "    while num < 1000:\n",
    "        if all(num % i != 0 for i in range(2, int(num ** 0.5) + 1)):\n",
    "            yield num\n",
    "        num =num+1\n",
    "no= hii()\n",
    "for j in range(20):\n",
    "    prime = next(no)\n",
    "    print(f\"Hello....! This is the prime number - {prime} \")\n"
   ]
  }
 ],
 "metadata": {
  "kernelspec": {
   "display_name": "Python 3 (ipykernel)",
   "language": "python",
   "name": "python3"
  },
  "language_info": {
   "codemirror_mode": {
    "name": "ipython",
    "version": 3
   },
   "file_extension": ".py",
   "mimetype": "text/x-python",
   "name": "python",
   "nbconvert_exporter": "python",
   "pygments_lexer": "ipython3",
   "version": "3.10.9"
  }
 },
 "nbformat": 4,
 "nbformat_minor": 5
}
