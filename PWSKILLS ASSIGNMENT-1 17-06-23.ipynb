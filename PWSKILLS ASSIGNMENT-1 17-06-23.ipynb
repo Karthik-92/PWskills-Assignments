{
 "cells": [
  {
   "cell_type": "code",
   "execution_count": 5,
   "id": "ac99f284",
   "metadata": {},
   "outputs": [
    {
     "name": "stdout",
     "output_type": "stream",
     "text": [
      "String =  Karthik\n"
     ]
    }
   ],
   "source": [
    "#Question-1\n",
    "variableofstring=\"Karthik\"\n",
    "print(\"String = \",variableofstring)"
   ]
  },
  {
   "cell_type": "code",
   "execution_count": 2,
   "id": "a8f1b29f",
   "metadata": {},
   "outputs": [
    {
     "name": "stdout",
     "output_type": "stream",
     "text": [
      "List =  [1, 2, 3, 4, 5]\n"
     ]
    }
   ],
   "source": [
    "variableoflist=[1,2,3,4,5]\n",
    "print(\"List = \",variableoflist)"
   ]
  },
  {
   "cell_type": "code",
   "execution_count": 3,
   "id": "e4110063",
   "metadata": {},
   "outputs": [
    {
     "name": "stdout",
     "output_type": "stream",
     "text": [
      "Float number =  33.44\n"
     ]
    }
   ],
   "source": [
    "variableoffloat=33.44\n",
    "print(\"Float number = \",variableoffloat)"
   ]
  },
  {
   "cell_type": "code",
   "execution_count": 4,
   "id": "6b99343e",
   "metadata": {},
   "outputs": [
    {
     "name": "stdout",
     "output_type": "stream",
     "text": [
      "Tuple =  (1, 2, 4, 5, 6)\n"
     ]
    }
   ],
   "source": [
    "variableoftuple=(1,2,4,5,6)\n",
    "print(\"Tuple = \",variableoftuple)"
   ]
  },
  {
   "cell_type": "code",
   "execution_count": 6,
   "id": "8d7a1e9b",
   "metadata": {},
   "outputs": [
    {
     "name": "stdout",
     "output_type": "stream",
     "text": [
      "<class 'str'>\n"
     ]
    }
   ],
   "source": [
    "#Question-2\n",
    "var1=''\n",
    "print(type(var1))"
   ]
  },
  {
   "cell_type": "code",
   "execution_count": 7,
   "id": "bd4b38aa",
   "metadata": {},
   "outputs": [
    {
     "name": "stdout",
     "output_type": "stream",
     "text": [
      "<class 'str'>\n"
     ]
    }
   ],
   "source": [
    "var2='[DS,ML,Python]'\n",
    "print(type(var2))"
   ]
  },
  {
   "cell_type": "code",
   "execution_count": 8,
   "id": "39535877",
   "metadata": {},
   "outputs": [
    {
     "name": "stdout",
     "output_type": "stream",
     "text": [
      "<class 'list'>\n"
     ]
    }
   ],
   "source": [
    "var3=['DS','ML','Python']\n",
    "print(type(var3))"
   ]
  },
  {
   "cell_type": "code",
   "execution_count": 9,
   "id": "cd47adfc",
   "metadata": {},
   "outputs": [
    {
     "name": "stdout",
     "output_type": "stream",
     "text": [
      "<class 'int'>\n"
     ]
    }
   ],
   "source": [
    "var4=1\n",
    "print(type(var4))"
   ]
  },
  {
   "cell_type": "code",
   "execution_count": 10,
   "id": "5e805d36",
   "metadata": {},
   "outputs": [
    {
     "name": "stdout",
     "output_type": "stream",
     "text": [
      "1.5\n"
     ]
    }
   ],
   "source": [
    "#Question-3\n",
    "a=3\n",
    "b=2\n",
    "c=a/b  #\"/\"is used as a division operator\n",
    "print(c)"
   ]
  },
  {
   "cell_type": "code",
   "execution_count": 11,
   "id": "9a269a48",
   "metadata": {},
   "outputs": [
    {
     "name": "stdout",
     "output_type": "stream",
     "text": [
      "0\n"
     ]
    }
   ],
   "source": [
    "a=20\n",
    "b=5\n",
    "c=a%b #\"%\"is used as a modulus\n",
    "print(c)"
   ]
  },
  {
   "cell_type": "code",
   "execution_count": 12,
   "id": "90a7b981",
   "metadata": {},
   "outputs": [
    {
     "name": "stdout",
     "output_type": "stream",
     "text": [
      "2\n"
     ]
    }
   ],
   "source": [
    "a=10\n",
    "b=4\n",
    "c=a//b  #\"//\"is used as floor division\n",
    "print(c)"
   ]
  },
  {
   "cell_type": "code",
   "execution_count": 13,
   "id": "ef952d0d",
   "metadata": {},
   "outputs": [
    {
     "name": "stdout",
     "output_type": "stream",
     "text": [
      "25\n"
     ]
    }
   ],
   "source": [
    "a=5\n",
    "b=2\n",
    "c=a**b  #\"**\"is used as exponential operator\n",
    "print(c)"
   ]
  },
  {
   "cell_type": "code",
   "execution_count": 14,
   "id": "db58a1c4",
   "metadata": {},
   "outputs": [
    {
     "name": "stdout",
     "output_type": "stream",
     "text": [
      "2 <class 'int'>\n",
      "3 <class 'int'>\n",
      "4 <class 'int'>\n",
      "hii <class 'str'>\n",
      "2.2 <class 'float'>\n",
      "hello <class 'str'>\n",
      "(9+1j) <class 'complex'>\n",
      "1 <class 'int'>\n",
      "8 <class 'int'>\n",
      "5.4 <class 'float'>\n"
     ]
    }
   ],
   "source": [
    "#Question-4\n",
    "l=[2,3,4,\"hii\",2.2,\"hello\",9+1j,1,8,5.4]\n",
    "for i in l:\n",
    "    print(i,type(i))"
   ]
  },
  {
   "cell_type": "code",
   "execution_count": 16,
   "id": "8a578ccc",
   "metadata": {},
   "outputs": [
    {
     "name": "stdout",
     "output_type": "stream",
     "text": [
      "a is purely divisible by b \n",
      "It is divisible by  2.0 times\n"
     ]
    }
   ],
   "source": [
    "#Question-5\n",
    "a=10\n",
    "b=5\n",
    "while b<a:\n",
    "    if a%b==0:\n",
    "        print(\"a is purely divisible by b \")\n",
    "        if a/b!=0:\n",
    "            print(\"It is divisible by \",a/b,\"times\")\n",
    "        break\n",
    "else :\n",
    "    print(\"a is not purely divisible by b\")"
   ]
  },
  {
   "cell_type": "code",
   "execution_count": 17,
   "id": "d26bc0d3",
   "metadata": {},
   "outputs": [
    {
     "name": "stdout",
     "output_type": "stream",
     "text": [
      "1 is not divisible by 3\n",
      "2 is not divisible by 3\n",
      "3 is divisible by 3\n",
      "4 is not divisible by 3\n",
      "5 is not divisible by 3\n",
      "6 is divisible by 3\n",
      "7 is not divisible by 3\n",
      "8 is not divisible by 3\n",
      "9 is divisible by 3\n",
      "10 is not divisible by 3\n",
      "11 is not divisible by 3\n",
      "12 is divisible by 3\n",
      "13 is not divisible by 3\n",
      "14 is not divisible by 3\n",
      "15 is divisible by 3\n",
      "16 is not divisible by 3\n",
      "17 is not divisible by 3\n",
      "18 is divisible by 3\n",
      "19 is not divisible by 3\n",
      "20 is not divisible by 3\n",
      "21 is divisible by 3\n",
      "22 is not divisible by 3\n",
      "23 is not divisible by 3\n",
      "24 is divisible by 3\n",
      "25 is not divisible by 3\n"
     ]
    }
   ],
   "source": [
    "#Question-6\n",
    "a=[1,2,3,4,5,6,7,8,9,10,11,12,13,14,15,16,17,18,19,20,21,22,23,24,25]\n",
    "for i in a:\n",
    "    if i%3==0:\n",
    "        print(i,\"is divisible by 3\")\n",
    "    else :\n",
    "        print(i,\"is not divisible by 3\")"
   ]
  },
  {
   "cell_type": "code",
   "execution_count": 18,
   "id": "3a038016",
   "metadata": {},
   "outputs": [
    {
     "name": "stdout",
     "output_type": "stream",
     "text": [
      "The present index value we are thinking to change :  hello\n",
      "New value of index :  bye \n",
      "New updated list :  [1, 2, 3, 'bye', 6j]\n"
     ]
    },
    {
     "ename": "TypeError",
     "evalue": "'str' object does not support item assignment",
     "output_type": "error",
     "traceback": [
      "\u001b[0;31m---------------------------------------------------------------------------\u001b[0m",
      "\u001b[0;31mTypeError\u001b[0m                                 Traceback (most recent call last)",
      "Cell \u001b[0;32mIn[18], line 11\u001b[0m\n\u001b[1;32m      9\u001b[0m \u001b[38;5;66;03m#Example for immutable concept\u001b[39;00m\n\u001b[1;32m     10\u001b[0m b\u001b[38;5;241m=\u001b[39m\u001b[38;5;124m\"\u001b[39m\u001b[38;5;124mWorld\u001b[39m\u001b[38;5;124m\"\u001b[39m\n\u001b[0;32m---> 11\u001b[0m b[\u001b[38;5;241m3\u001b[39m]\u001b[38;5;241m=\u001b[39ma\n\u001b[1;32m     12\u001b[0m \u001b[38;5;28mprint\u001b[39m(b)\n\u001b[1;32m     13\u001b[0m \u001b[38;5;66;03m#We will get error because string is immutable\u001b[39;00m\n\u001b[1;32m     14\u001b[0m \n\u001b[1;32m     15\u001b[0m \u001b[38;5;66;03m#Example-2 for immutable concept\u001b[39;00m\n",
      "\u001b[0;31mTypeError\u001b[0m: 'str' object does not support item assignment"
     ]
    }
   ],
   "source": [
    "#Question-7\n",
    "'''Mutable means we can able to change particular index value of any data type ex: list\n",
    "   Immutable means we cannt able to change particular index value ex:tuple,string'''\n",
    "#Example for Mutable concept\n",
    "a=[1,2,3,\"hello\",6j]\n",
    "print(\"The present index value we are thinking to change : \",a[3])\n",
    "a[3]=\"bye\"\n",
    "print(\"New value of index : \",a[3],\"\\nNew updated list : \",a)\n",
    "\n",
    "#Example for immutable concept\n",
    "b=\"World\"\n",
    "b[3]=a\n",
    "print(b)\n",
    "#We will get error because string is immutable\n",
    "\n",
    "#Example-2 for immutable concept\n",
    "a=(1,2,4,5)\n",
    "print(a[3])\n",
    "a[3]=7\n",
    "print(a[3])\n",
    "#We get error bcz tuple is immutable\n"
   ]
  },
  {
   "cell_type": "code",
   "execution_count": null,
   "id": "190f044c",
   "metadata": {},
   "outputs": [],
   "source": []
  }
 ],
 "metadata": {
  "kernelspec": {
   "display_name": "Python 3 (ipykernel)",
   "language": "python",
   "name": "python3"
  },
  "language_info": {
   "codemirror_mode": {
    "name": "ipython",
    "version": 3
   },
   "file_extension": ".py",
   "mimetype": "text/x-python",
   "name": "python",
   "nbconvert_exporter": "python",
   "pygments_lexer": "ipython3",
   "version": "3.10.9"
  }
 },
 "nbformat": 4,
 "nbformat_minor": 5
}
